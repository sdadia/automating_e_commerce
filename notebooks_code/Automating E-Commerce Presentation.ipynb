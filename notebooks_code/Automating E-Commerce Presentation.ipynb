{
 "cells": [
  {
   "cell_type": "markdown",
   "metadata": {
    "slideshow": {
     "slide_type": "slide"
    }
   },
   "source": [
    "# Automating E-Commerce using Cloud Resources\n",
    "\n",
    "Sahil Dadia\n",
    "\n",
    "MSC in Data Science and Analytics\n",
    "\n",
    "\n",
    "Emai : dadiasahil94@yahoo.in\n",
    "\n",
    "LinkedIn : www.linkedin.com/in/sahil-dadia/"
   ]
  },
  {
   "cell_type": "markdown",
   "metadata": {
    "slideshow": {
     "slide_type": "slide"
    }
   },
   "source": [
    "* What is the Project about?\n",
    "* Motivation \n",
    "* Techonlogy Stack\n",
    "    * Resources\n",
    "    * Architecture\n",
    "    * Workflow\n",
    "* Demo\n",
    "* Use Cases\n",
    "    * Alternate technology stack\n",
    "    * Design Consideration"
   ]
  },
  {
   "cell_type": "markdown",
   "metadata": {
    "slideshow": {
     "slide_type": "slide"
    }
   },
   "source": [
    "### What is the project about?\n",
    "\n",
    "Getting data in real time from Sources\n",
    "![Retial](https://www.retailgazette.co.uk/wp/wp-content/uploads/b70bc8665cad6bc998f2a1b643109d38-1.jpg)"
   ]
  },
  {
   "cell_type": "markdown",
   "metadata": {
    "slideshow": {
     "slide_type": "slide"
    }
   },
   "source": [
    "![FarmeresMarket](https://www.avenuecalgary.com/wp-content/uploads/2018/01/AvenidaMarket.jpg)"
   ]
  },
  {
   "cell_type": "markdown",
   "metadata": {
    "slideshow": {
     "slide_type": "slide"
    }
   },
   "source": [
    "## Motivation\n",
    "\n",
    "* Get data from stores in Real Time\n",
    "* Process it - Apply machine learning, Find patterns, Classification\n",
    "* Visualize the data\n",
    "![architecture](./images/flow_diagram_idea.png)"
   ]
  },
  {
   "cell_type": "markdown",
   "metadata": {
    "slideshow": {
     "slide_type": "slide"
    }
   },
   "source": [
    "## Architectue\n",
    "![architecture](./images/flow_diagram2.png)"
   ]
  },
  {
   "cell_type": "markdown",
   "metadata": {
    "slideshow": {
     "slide_type": "slide"
    }
   },
   "source": [
    "## Resources -  Kinesis\n",
    "\n",
    "* With Amazon Kinesis, you can ingest real-time data \n",
    "* Such as video, audio, application logs, website clickstreams, and IoT telemetry data for machine learning, analytics, and other applications.\n",
    "\n",
    "\n",
    "\n",
    "![architecture](./images/Kinesis_firehose.png)\n",
    "\n",
    "\n",
    "**Think of it like a computer where you can send all your data and do analytics on it**"
   ]
  },
  {
   "cell_type": "markdown",
   "metadata": {
    "slideshow": {
     "slide_type": "slide"
    }
   },
   "source": [
    "## Resources -  S3 Buckets\n",
    "\n",
    "* They are online storage options\n",
    "\n",
    "\n",
    "\n",
    "![architecture](https://i1.wp.com/codeandcoffee.us/wp-content/uploads/2018/07/s3.png?w=387)\n",
    "\n",
    "\n",
    "**Think of it like a Google Drive**"
   ]
  },
  {
   "cell_type": "markdown",
   "metadata": {
    "slideshow": {
     "slide_type": "slide"
    }
   },
   "source": [
    "## Resources -  AWS Lambda\n",
    "\n",
    "* AWS Lambda lets you run code without creating servers.\n",
    "* You pay only for the compute time you consume - there is no charge when your code is not running.\n",
    "\n",
    "\n",
    "\n",
    "![architecture](./images/lambda_icon.png)\n",
    "\n",
    "\n",
    "**Think of it like - do this if this happens - but without you creating the servers**"
   ]
  },
  {
   "cell_type": "markdown",
   "metadata": {
    "slideshow": {
     "slide_type": "slide"
    }
   },
   "source": [
    "## Resources -  Apache Superset\n",
    "\n",
    "* Open source software for dashboarding and visualization\n",
    "* We run it on EC2 instance\n",
    "\n",
    "![architecture](https://superset.incubator.apache.org/_images/s.png)\n",
    "\n",
    "\n",
    "**Think of it like an alternative to Tableau/PowerBI**"
   ]
  },
  {
   "cell_type": "markdown",
   "metadata": {
    "slideshow": {
     "slide_type": "slide"
    }
   },
   "source": [
    "## Worflow\n",
    "\n",
    "#### Step 1-2 \n",
    "Customer purchases items at the till machine, the digital reciept is converted to JSON format and transmitted to Kinesis Data Stream.\n",
    "![architecture](./images/flow_diagram2.png)"
   ]
  },
  {
   "cell_type": "markdown",
   "metadata": {
    "slideshow": {
     "slide_type": "slide"
    }
   },
   "source": [
    "### Digital Reciept"
   ]
  },
  {
   "cell_type": "code",
   "execution_count": null,
   "metadata": {
    "slideshow": {
     "slide_type": "-"
    }
   },
   "outputs": [],
   "source": [
    "# create client\n",
    "kinesis_client = boto3.client('kinesis', region_name='eu-west-1')\n",
    "\n",
    "# transaction data\n",
    "data = {\n",
    "     'segment': seg,\n",
    "     'product_category': prd,\n",
    "     'sale': sale,\n",
    "     'latitude': lat,\n",
    "     'longitude': lon,\n",
    "     'cash_or_card' : cash_or_card,\n",
    "     'timestamp': str(ts),\n",
    "     'city':city\n",
    "}\n",
    "\n",
    "# send the record\n",
    "kinesis_client.put_record('Data':json.dumps(data) ,\n",
    "                          'PartitionKey': data['city'], \n",
    "                          StreamName=args['stream_name'])"
   ]
  },
  {
   "cell_type": "markdown",
   "metadata": {
    "slideshow": {
     "slide_type": "slide"
    }
   },
   "source": [
    "## Worflow\n",
    "\n",
    "#### Step 3-4\n",
    "Every 1 minute Kinesis Firehose bundels all the data and puts it into a file on S3 in JSON format\n",
    "![architecture](./images/flow_diagram2.png)\n",
    "\n"
   ]
  },
  {
   "cell_type": "markdown",
   "metadata": {
    "slideshow": {
     "slide_type": "slide"
    }
   },
   "source": [
    "## Files Stored on S3"
   ]
  },
  {
   "cell_type": "markdown",
   "metadata": {
    "slideshow": {
     "slide_type": "-"
    }
   },
   "source": [
    "![architecture](./images/S3_jsonfiles.png)"
   ]
  },
  {
   "cell_type": "markdown",
   "metadata": {
    "slideshow": {
     "slide_type": "slide"
    }
   },
   "source": [
    "## Format of Each File"
   ]
  },
  {
   "cell_type": "markdown",
   "metadata": {
    "slideshow": {
     "slide_type": "-"
    }
   },
   "source": [
    "![architecture](./images/s3_json.png)"
   ]
  },
  {
   "cell_type": "markdown",
   "metadata": {
    "slideshow": {
     "slide_type": "slide"
    }
   },
   "source": [
    "## Worflow\n",
    "\n",
    "#### Step 5-6\n",
    "Each file sent to the S3 bucket triggers Lambda Function.\n",
    "   * Lambda Function cleans the data\n",
    "   * Transfers to Posgres database on RDS\n",
    "![architecture](./images/flow_diagram2.png)\n"
   ]
  },
  {
   "cell_type": "markdown",
   "metadata": {
    "slideshow": {
     "slide_type": "slide"
    }
   },
   "source": [
    "## Lambda Function Structure"
   ]
  },
  {
   "cell_type": "code",
   "execution_count": null,
   "metadata": {
    "slideshow": {
     "slide_type": "-"
    }
   },
   "outputs": [],
   "source": [
    "import ...\n",
    "\n",
    "def clean_data(file):\n",
    "    ...\n",
    "    \n",
    "def transfer_to_RDS():\n",
    "    ...\n",
    "\n",
    "def lambda_handler():\n",
    "    # get bucket and file name\n",
    "    bucket_name = record['s3']['bucket']['name']\n",
    "    file_name = record['s3']['object']['key']\n",
    "    \n",
    "    # clean and transfer data to RDS\n",
    "    my_file = pd.read_json(...)\n",
    "    clean_file = clean_data(file)\n",
    "    transfer_to_RDS(clean_file)"
   ]
  },
  {
   "cell_type": "markdown",
   "metadata": {
    "slideshow": {
     "slide_type": "slide"
    }
   },
   "source": [
    "## Table Stored in Postgres\n",
    "\n",
    "![table in postgres](./images/pg_table.png)"
   ]
  },
  {
   "cell_type": "markdown",
   "metadata": {
    "slideshow": {
     "slide_type": "slide"
    }
   },
   "source": [
    "## Workflow\n",
    "\n",
    "#### Step 7-8\n",
    "\n",
    "We use superset for Dashboarding and reporting"
   ]
  },
  {
   "cell_type": "markdown",
   "metadata": {
    "slideshow": {
     "slide_type": "slide"
    }
   },
   "source": [
    "![dashboard](./images/dashboard.png)"
   ]
  },
  {
   "cell_type": "markdown",
   "metadata": {},
   "source": [
    "# Demo"
   ]
  }
 ],
 "metadata": {
  "celltoolbar": "Slideshow",
  "kernelspec": {
   "display_name": "Python 3",
   "language": "python",
   "name": "python3"
  },
  "language_info": {
   "codemirror_mode": {
    "name": "ipython",
    "version": 3
   },
   "file_extension": ".py",
   "mimetype": "text/x-python",
   "name": "python",
   "nbconvert_exporter": "python",
   "pygments_lexer": "ipython3",
   "version": "3.7.3"
  }
 },
 "nbformat": 4,
 "nbformat_minor": 2
}
